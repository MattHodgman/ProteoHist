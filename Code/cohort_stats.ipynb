{
  "nbformat": 4,
  "nbformat_minor": 0,
  "metadata": {
    "colab": {
      "provenance": [],
      "mount_file_id": "1BSUljLs-qLo8WYz9zcrn5GoiTAae9TbL",
      "authorship_tag": "ABX9TyPeAXreNHt/49DK4dkdo4LB",
      "include_colab_link": true
    },
    "kernelspec": {
      "name": "python3",
      "display_name": "Python 3"
    },
    "language_info": {
      "name": "python"
    }
  },
  "cells": [
    {
      "cell_type": "markdown",
      "metadata": {
        "id": "view-in-github",
        "colab_type": "text"
      },
      "source": [
        "<a href=\"https://colab.research.google.com/github/MattHodgman/ProteoHist/blob/main/cohort_stats.ipynb\" target=\"_parent\"><img src=\"https://colab.research.google.com/assets/colab-badge.svg\" alt=\"Open In Colab\"/></a>"
      ]
    },
    {
      "cell_type": "markdown",
      "source": [
        "# Explore cohort statistics\n",
        "- confounders\n",
        "- batch effects\n",
        "- etc."
      ],
      "metadata": {
        "id": "3EKtdgoSEG40"
      }
    },
    {
      "cell_type": "code",
      "execution_count": null,
      "metadata": {
        "id": "uSzZCtv1DHJ3"
      },
      "outputs": [],
      "source": [
        "import pandas as pd\n",
        "import seaborn as sns\n",
        "import matplotlib.pyplot as plt\n",
        "import scipy.stats as stats\n",
        "from matplotlib_venn import venn3, venn3_circles"
      ]
    },
    {
      "cell_type": "code",
      "source": [
        "# Load data\n",
        "df = pd.read_csv('/content/drive/MyDrive/BIOINF_590/Data/Metadata/metadata.csv')"
      ],
      "metadata": {
        "id": "Iu3qfg60D3sc"
      },
      "execution_count": null,
      "outputs": []
    },
    {
      "cell_type": "markdown",
      "source": [
        "## Continuous Variables\n",
        "I believe the column 'Age_at_Diagnosis' has been shifted for deidentification."
      ],
      "metadata": {
        "id": "OnjO4TaXkrju"
      }
    },
    {
      "cell_type": "code",
      "source": [
        "continuous_cols = ['Weight','Tumor_Percent_Tumor_Nuclei','Tumor_Percent_Total_Cellularity',\n",
        "                   'Tumor_Percent_Necrosis','BMI','Age', 'Group']"
      ],
      "metadata": {
        "id": "CVZeX1eflZJk"
      },
      "execution_count": null,
      "outputs": []
    },
    {
      "cell_type": "code",
      "source": [
        "def get_stats(df0, stat):\n",
        "  \n",
        "  df0 = df0[continuous_cols]\n",
        "\n",
        "  if stat == 'mean':\n",
        "    df0 = df0.groupby('Group').mean().T\n",
        "  elif stat == 'std':\n",
        "    df0 = df0.groupby('Group').std().T\n",
        "\n",
        "  df0.columns.name = None\n",
        "  df0.index.name = None\n",
        "\n",
        "  return df0"
      ],
      "metadata": {
        "id": "yBsnVjZYl55M"
      },
      "execution_count": null,
      "outputs": []
    },
    {
      "cell_type": "code",
      "source": [
        "get_stats(df, 'mean')"
      ],
      "metadata": {
        "colab": {
          "base_uri": "https://localhost:8080/",
          "height": 235
        },
        "id": "M35CNP08owvG",
        "outputId": "f720cbc8-938c-4cfa-b8a4-c7bac78c0e18"
      },
      "execution_count": null,
      "outputs": [
        {
          "output_type": "execute_result",
          "data": {
            "text/plain": [
              "                                      both     normal      tumor\n",
              "Weight                           94.829444  92.152381  96.444444\n",
              "Tumor_Percent_Tumor_Nuclei       79.444444        NaN  91.660000\n",
              "Tumor_Percent_Total_Cellularity  92.361111        NaN  91.860000\n",
              "Tumor_Percent_Necrosis            2.111111        NaN   2.200000\n",
              "BMI                              33.624167  36.472692  35.417800\n",
              "Age                              64.583333  65.923077  62.440000"
            ],
            "text/html": [
              "\n",
              "  <div id=\"df-f43eff83-cf9d-4283-91d6-9916c9e1bbee\">\n",
              "    <div class=\"colab-df-container\">\n",
              "      <div>\n",
              "<style scoped>\n",
              "    .dataframe tbody tr th:only-of-type {\n",
              "        vertical-align: middle;\n",
              "    }\n",
              "\n",
              "    .dataframe tbody tr th {\n",
              "        vertical-align: top;\n",
              "    }\n",
              "\n",
              "    .dataframe thead th {\n",
              "        text-align: right;\n",
              "    }\n",
              "</style>\n",
              "<table border=\"1\" class=\"dataframe\">\n",
              "  <thead>\n",
              "    <tr style=\"text-align: right;\">\n",
              "      <th></th>\n",
              "      <th>both</th>\n",
              "      <th>normal</th>\n",
              "      <th>tumor</th>\n",
              "    </tr>\n",
              "  </thead>\n",
              "  <tbody>\n",
              "    <tr>\n",
              "      <th>Weight</th>\n",
              "      <td>94.829444</td>\n",
              "      <td>92.152381</td>\n",
              "      <td>96.444444</td>\n",
              "    </tr>\n",
              "    <tr>\n",
              "      <th>Tumor_Percent_Tumor_Nuclei</th>\n",
              "      <td>79.444444</td>\n",
              "      <td>NaN</td>\n",
              "      <td>91.660000</td>\n",
              "    </tr>\n",
              "    <tr>\n",
              "      <th>Tumor_Percent_Total_Cellularity</th>\n",
              "      <td>92.361111</td>\n",
              "      <td>NaN</td>\n",
              "      <td>91.860000</td>\n",
              "    </tr>\n",
              "    <tr>\n",
              "      <th>Tumor_Percent_Necrosis</th>\n",
              "      <td>2.111111</td>\n",
              "      <td>NaN</td>\n",
              "      <td>2.200000</td>\n",
              "    </tr>\n",
              "    <tr>\n",
              "      <th>BMI</th>\n",
              "      <td>33.624167</td>\n",
              "      <td>36.472692</td>\n",
              "      <td>35.417800</td>\n",
              "    </tr>\n",
              "    <tr>\n",
              "      <th>Age</th>\n",
              "      <td>64.583333</td>\n",
              "      <td>65.923077</td>\n",
              "      <td>62.440000</td>\n",
              "    </tr>\n",
              "  </tbody>\n",
              "</table>\n",
              "</div>\n",
              "      <button class=\"colab-df-convert\" onclick=\"convertToInteractive('df-f43eff83-cf9d-4283-91d6-9916c9e1bbee')\"\n",
              "              title=\"Convert this dataframe to an interactive table.\"\n",
              "              style=\"display:none;\">\n",
              "        \n",
              "  <svg xmlns=\"http://www.w3.org/2000/svg\" height=\"24px\"viewBox=\"0 0 24 24\"\n",
              "       width=\"24px\">\n",
              "    <path d=\"M0 0h24v24H0V0z\" fill=\"none\"/>\n",
              "    <path d=\"M18.56 5.44l.94 2.06.94-2.06 2.06-.94-2.06-.94-.94-2.06-.94 2.06-2.06.94zm-11 1L8.5 8.5l.94-2.06 2.06-.94-2.06-.94L8.5 2.5l-.94 2.06-2.06.94zm10 10l.94 2.06.94-2.06 2.06-.94-2.06-.94-.94-2.06-.94 2.06-2.06.94z\"/><path d=\"M17.41 7.96l-1.37-1.37c-.4-.4-.92-.59-1.43-.59-.52 0-1.04.2-1.43.59L10.3 9.45l-7.72 7.72c-.78.78-.78 2.05 0 2.83L4 21.41c.39.39.9.59 1.41.59.51 0 1.02-.2 1.41-.59l7.78-7.78 2.81-2.81c.8-.78.8-2.07 0-2.86zM5.41 20L4 18.59l7.72-7.72 1.47 1.35L5.41 20z\"/>\n",
              "  </svg>\n",
              "      </button>\n",
              "      \n",
              "  <style>\n",
              "    .colab-df-container {\n",
              "      display:flex;\n",
              "      flex-wrap:wrap;\n",
              "      gap: 12px;\n",
              "    }\n",
              "\n",
              "    .colab-df-convert {\n",
              "      background-color: #E8F0FE;\n",
              "      border: none;\n",
              "      border-radius: 50%;\n",
              "      cursor: pointer;\n",
              "      display: none;\n",
              "      fill: #1967D2;\n",
              "      height: 32px;\n",
              "      padding: 0 0 0 0;\n",
              "      width: 32px;\n",
              "    }\n",
              "\n",
              "    .colab-df-convert:hover {\n",
              "      background-color: #E2EBFA;\n",
              "      box-shadow: 0px 1px 2px rgba(60, 64, 67, 0.3), 0px 1px 3px 1px rgba(60, 64, 67, 0.15);\n",
              "      fill: #174EA6;\n",
              "    }\n",
              "\n",
              "    [theme=dark] .colab-df-convert {\n",
              "      background-color: #3B4455;\n",
              "      fill: #D2E3FC;\n",
              "    }\n",
              "\n",
              "    [theme=dark] .colab-df-convert:hover {\n",
              "      background-color: #434B5C;\n",
              "      box-shadow: 0px 1px 3px 1px rgba(0, 0, 0, 0.15);\n",
              "      filter: drop-shadow(0px 1px 2px rgba(0, 0, 0, 0.3));\n",
              "      fill: #FFFFFF;\n",
              "    }\n",
              "  </style>\n",
              "\n",
              "      <script>\n",
              "        const buttonEl =\n",
              "          document.querySelector('#df-f43eff83-cf9d-4283-91d6-9916c9e1bbee button.colab-df-convert');\n",
              "        buttonEl.style.display =\n",
              "          google.colab.kernel.accessAllowed ? 'block' : 'none';\n",
              "\n",
              "        async function convertToInteractive(key) {\n",
              "          const element = document.querySelector('#df-f43eff83-cf9d-4283-91d6-9916c9e1bbee');\n",
              "          const dataTable =\n",
              "            await google.colab.kernel.invokeFunction('convertToInteractive',\n",
              "                                                     [key], {});\n",
              "          if (!dataTable) return;\n",
              "\n",
              "          const docLinkHtml = 'Like what you see? Visit the ' +\n",
              "            '<a target=\"_blank\" href=https://colab.research.google.com/notebooks/data_table.ipynb>data table notebook</a>'\n",
              "            + ' to learn more about interactive tables.';\n",
              "          element.innerHTML = '';\n",
              "          dataTable['output_type'] = 'display_data';\n",
              "          await google.colab.output.renderOutput(dataTable, element);\n",
              "          const docLink = document.createElement('div');\n",
              "          docLink.innerHTML = docLinkHtml;\n",
              "          element.appendChild(docLink);\n",
              "        }\n",
              "      </script>\n",
              "    </div>\n",
              "  </div>\n",
              "  "
            ]
          },
          "metadata": {},
          "execution_count": 5
        }
      ]
    },
    {
      "cell_type": "code",
      "source": [
        "get_stats(df, 'std')"
      ],
      "metadata": {
        "colab": {
          "base_uri": "https://localhost:8080/",
          "height": 235
        },
        "id": "nF9lC4HJq0vW",
        "outputId": "83c2ed7a-2e86-42ff-8e39-d09592c17f11"
      },
      "execution_count": null,
      "outputs": [
        {
          "output_type": "execute_result",
          "data": {
            "text/plain": [
              "                                      both     normal      tumor\n",
              "Weight                           28.732809  21.950425  30.040475\n",
              "Tumor_Percent_Tumor_Nuclei       12.117153        NaN   2.479384\n",
              "Tumor_Percent_Total_Cellularity   5.054858        NaN   7.289943\n",
              "Tumor_Percent_Necrosis            2.944998        NaN   2.770103\n",
              "BMI                               9.972221   8.614412  10.491055\n",
              "Age                               9.946643   8.084173  10.069473"
            ],
            "text/html": [
              "\n",
              "  <div id=\"df-ef59a196-75dc-4d5b-a790-45f5911f13d9\">\n",
              "    <div class=\"colab-df-container\">\n",
              "      <div>\n",
              "<style scoped>\n",
              "    .dataframe tbody tr th:only-of-type {\n",
              "        vertical-align: middle;\n",
              "    }\n",
              "\n",
              "    .dataframe tbody tr th {\n",
              "        vertical-align: top;\n",
              "    }\n",
              "\n",
              "    .dataframe thead th {\n",
              "        text-align: right;\n",
              "    }\n",
              "</style>\n",
              "<table border=\"1\" class=\"dataframe\">\n",
              "  <thead>\n",
              "    <tr style=\"text-align: right;\">\n",
              "      <th></th>\n",
              "      <th>both</th>\n",
              "      <th>normal</th>\n",
              "      <th>tumor</th>\n",
              "    </tr>\n",
              "  </thead>\n",
              "  <tbody>\n",
              "    <tr>\n",
              "      <th>Weight</th>\n",
              "      <td>28.732809</td>\n",
              "      <td>21.950425</td>\n",
              "      <td>30.040475</td>\n",
              "    </tr>\n",
              "    <tr>\n",
              "      <th>Tumor_Percent_Tumor_Nuclei</th>\n",
              "      <td>12.117153</td>\n",
              "      <td>NaN</td>\n",
              "      <td>2.479384</td>\n",
              "    </tr>\n",
              "    <tr>\n",
              "      <th>Tumor_Percent_Total_Cellularity</th>\n",
              "      <td>5.054858</td>\n",
              "      <td>NaN</td>\n",
              "      <td>7.289943</td>\n",
              "    </tr>\n",
              "    <tr>\n",
              "      <th>Tumor_Percent_Necrosis</th>\n",
              "      <td>2.944998</td>\n",
              "      <td>NaN</td>\n",
              "      <td>2.770103</td>\n",
              "    </tr>\n",
              "    <tr>\n",
              "      <th>BMI</th>\n",
              "      <td>9.972221</td>\n",
              "      <td>8.614412</td>\n",
              "      <td>10.491055</td>\n",
              "    </tr>\n",
              "    <tr>\n",
              "      <th>Age</th>\n",
              "      <td>9.946643</td>\n",
              "      <td>8.084173</td>\n",
              "      <td>10.069473</td>\n",
              "    </tr>\n",
              "  </tbody>\n",
              "</table>\n",
              "</div>\n",
              "      <button class=\"colab-df-convert\" onclick=\"convertToInteractive('df-ef59a196-75dc-4d5b-a790-45f5911f13d9')\"\n",
              "              title=\"Convert this dataframe to an interactive table.\"\n",
              "              style=\"display:none;\">\n",
              "        \n",
              "  <svg xmlns=\"http://www.w3.org/2000/svg\" height=\"24px\"viewBox=\"0 0 24 24\"\n",
              "       width=\"24px\">\n",
              "    <path d=\"M0 0h24v24H0V0z\" fill=\"none\"/>\n",
              "    <path d=\"M18.56 5.44l.94 2.06.94-2.06 2.06-.94-2.06-.94-.94-2.06-.94 2.06-2.06.94zm-11 1L8.5 8.5l.94-2.06 2.06-.94-2.06-.94L8.5 2.5l-.94 2.06-2.06.94zm10 10l.94 2.06.94-2.06 2.06-.94-2.06-.94-.94-2.06-.94 2.06-2.06.94z\"/><path d=\"M17.41 7.96l-1.37-1.37c-.4-.4-.92-.59-1.43-.59-.52 0-1.04.2-1.43.59L10.3 9.45l-7.72 7.72c-.78.78-.78 2.05 0 2.83L4 21.41c.39.39.9.59 1.41.59.51 0 1.02-.2 1.41-.59l7.78-7.78 2.81-2.81c.8-.78.8-2.07 0-2.86zM5.41 20L4 18.59l7.72-7.72 1.47 1.35L5.41 20z\"/>\n",
              "  </svg>\n",
              "      </button>\n",
              "      \n",
              "  <style>\n",
              "    .colab-df-container {\n",
              "      display:flex;\n",
              "      flex-wrap:wrap;\n",
              "      gap: 12px;\n",
              "    }\n",
              "\n",
              "    .colab-df-convert {\n",
              "      background-color: #E8F0FE;\n",
              "      border: none;\n",
              "      border-radius: 50%;\n",
              "      cursor: pointer;\n",
              "      display: none;\n",
              "      fill: #1967D2;\n",
              "      height: 32px;\n",
              "      padding: 0 0 0 0;\n",
              "      width: 32px;\n",
              "    }\n",
              "\n",
              "    .colab-df-convert:hover {\n",
              "      background-color: #E2EBFA;\n",
              "      box-shadow: 0px 1px 2px rgba(60, 64, 67, 0.3), 0px 1px 3px 1px rgba(60, 64, 67, 0.15);\n",
              "      fill: #174EA6;\n",
              "    }\n",
              "\n",
              "    [theme=dark] .colab-df-convert {\n",
              "      background-color: #3B4455;\n",
              "      fill: #D2E3FC;\n",
              "    }\n",
              "\n",
              "    [theme=dark] .colab-df-convert:hover {\n",
              "      background-color: #434B5C;\n",
              "      box-shadow: 0px 1px 3px 1px rgba(0, 0, 0, 0.15);\n",
              "      filter: drop-shadow(0px 1px 2px rgba(0, 0, 0, 0.3));\n",
              "      fill: #FFFFFF;\n",
              "    }\n",
              "  </style>\n",
              "\n",
              "      <script>\n",
              "        const buttonEl =\n",
              "          document.querySelector('#df-ef59a196-75dc-4d5b-a790-45f5911f13d9 button.colab-df-convert');\n",
              "        buttonEl.style.display =\n",
              "          google.colab.kernel.accessAllowed ? 'block' : 'none';\n",
              "\n",
              "        async function convertToInteractive(key) {\n",
              "          const element = document.querySelector('#df-ef59a196-75dc-4d5b-a790-45f5911f13d9');\n",
              "          const dataTable =\n",
              "            await google.colab.kernel.invokeFunction('convertToInteractive',\n",
              "                                                     [key], {});\n",
              "          if (!dataTable) return;\n",
              "\n",
              "          const docLinkHtml = 'Like what you see? Visit the ' +\n",
              "            '<a target=\"_blank\" href=https://colab.research.google.com/notebooks/data_table.ipynb>data table notebook</a>'\n",
              "            + ' to learn more about interactive tables.';\n",
              "          element.innerHTML = '';\n",
              "          dataTable['output_type'] = 'display_data';\n",
              "          await google.colab.output.renderOutput(dataTable, element);\n",
              "          const docLink = document.createElement('div');\n",
              "          docLink.innerHTML = docLinkHtml;\n",
              "          element.appendChild(docLink);\n",
              "        }\n",
              "      </script>\n",
              "    </div>\n",
              "  </div>\n",
              "  "
            ]
          },
          "metadata": {},
          "execution_count": 6
        }
      ]
    },
    {
      "cell_type": "code",
      "source": [
        "df_cont_m = get_stats(df, 'mean')\n",
        "df_cont_std = get_stats(df, 'std')\n",
        "\n",
        "df_cont_m['both'] = df_cont_m['both'].round(1).astype(str) + ' (±' + df_cont_std['both'].round(1).astype(str) + ')'\n",
        "df_cont_m['normal'] = df_cont_m['normal'].round(1).astype(str) + ' (±' + df_cont_std['normal'].round(1).astype(str) + ')'\n",
        "df_cont_m['tumor'] = df_cont_m['tumor'].round(1).astype(str) + ' (±' + df_cont_std['tumor'].round(1).astype(str) + ')'"
      ],
      "metadata": {
        "id": "LkuzfuYpWw1B"
      },
      "execution_count": null,
      "outputs": []
    },
    {
      "cell_type": "code",
      "source": [
        "df_cont_m.to_csv('/content/drive/MyDrive/BIOINF_590/Data/group_continuous_variables_mean_std.csv')"
      ],
      "metadata": {
        "id": "T8FYxlUGXbws"
      },
      "execution_count": null,
      "outputs": []
    },
    {
      "cell_type": "markdown",
      "source": [
        "## Categorical Variables"
      ],
      "metadata": {
        "id": "aggsYwBIkzQa"
      }
    },
    {
      "cell_type": "code",
      "source": [
        "categorical_cols = ['Specimen_Type','Tumor_Site_histology','Tumor_Histological_Type',\n",
        "                    'Tumor_Segment_Acceptable','Progression_or_Recurrence',\n",
        "                    'Ethnicity_histology','Race_histology',\n",
        "                    'Vital_Status','Proteomics_TMT_batch','Country',\n",
        "                    'Histologic_Grade_FIGO','Myometrial_invasion_Specify','Histologic_type',\n",
        "                    'tumor_Stage-Pathological','Diabetes',\n",
        "                    'Tumor_Site_proteomics','Tumor_Site_Other']"
      ],
      "metadata": {
        "id": "yO8HmygTVAos"
      },
      "execution_count": null,
      "outputs": []
    },
    {
      "cell_type": "code",
      "source": [
        "def myfunc(df0):\n",
        "  dfs = []\n",
        "\n",
        "  for col in categorical_cols:\n",
        "\n",
        "    df = pd.DataFrame(df0.groupby('Group')[col].value_counts())\n",
        "    df = df.rename(columns={col : 'value'})\n",
        "    df['Group'] = df.index.get_level_values(0)\n",
        "    df = df.droplevel(0)\n",
        "    df = df.pivot(columns='Group', values='value')\n",
        "    df = pd.concat({col: df}, names=['Feature'])\n",
        "    dfs.append(df)\n",
        "\n",
        "  # combine features dfs\n",
        "  df = pd.DataFrame()\n",
        "  for feature_df in dfs:\n",
        "    df = pd.concat([df,feature_df])\n",
        "\n",
        "  df = df.fillna(0)\n",
        "\n",
        "  # add percentage columns\n",
        "  n_normal = df0['Group'].value_counts()['normal']\n",
        "  n_tumor = df0['Group'].value_counts()['tumor']\n",
        "  n_both = df0['Group'].value_counts()['both']\n",
        "  \n",
        "  df['normal'] = df['normal'].astype(int).astype(str) + ' (' + ((df['normal'] / n_normal) * 100).round(1).astype(str) + '%)'\n",
        "  df['tumor'] = df['tumor'].astype(int).astype(str) + ' (' + ((df['tumor'] / n_tumor) * 100).round(1).astype(str) + '%)'\n",
        "  df['both'] = df['both'].astype(int).astype(str) + ' (' + ((df['both'] / n_both) * 100).round(1).astype(str) + '%)'\n",
        "\n",
        "  # df['normal_freq'] = ((df['normal'] / n_normal)).round(2)\n",
        "  # df['tumor_freq'] = ((df['tumor'] / n_tumor)).round(2)\n",
        "  # df['both_freq'] = ((df['both'] / n_both)).round(2)\n",
        "\n",
        "  df.columns.name = None\n",
        "  df.index.names = (None,None)\n",
        "\n",
        "  return df"
      ],
      "metadata": {
        "id": "aAbtzekaB3-t"
      },
      "execution_count": null,
      "outputs": []
    },
    {
      "cell_type": "code",
      "source": [
        "df_categorical_variables = myfunc(df)"
      ],
      "metadata": {
        "id": "p3c262piGkFW"
      },
      "execution_count": null,
      "outputs": []
    },
    {
      "cell_type": "code",
      "source": [
        "df_categorical_variables"
      ],
      "metadata": {
        "id": "M8QE6_98GnlJ"
      },
      "execution_count": null,
      "outputs": []
    },
    {
      "cell_type": "code",
      "source": [
        "df_categorical_variables.to_csv('/content/drive/MyDrive/BIOINF_590/Data/group_categorical_variables_formatted.csv')"
      ],
      "metadata": {
        "id": "cjRb6_faC4Rl"
      },
      "execution_count": null,
      "outputs": []
    },
    {
      "cell_type": "markdown",
      "source": [
        "## Other"
      ],
      "metadata": {
        "id": "M65aWyaDBq7p"
      }
    },
    {
      "cell_type": "code",
      "source": [
        "# Stratify patients by what groups their samples are in\n",
        "\n",
        "normal_patients = set(df[df['Group'] == 'normal']['Case_ID'].unique())\n",
        "tumor_patients = set(df[df['Group'] == 'tumor']['Case_ID'].unique())\n",
        "both_patients = set(df[df['Group'] == 'both']['Case_ID'].unique())\n",
        "\n",
        "venn3([normal_patients, tumor_patients, both_patients], ('normal', 'tumor', 'both'))\n",
        "\n",
        "plt.title('The number of patients per group')\n",
        "plt.show()"
      ],
      "metadata": {
        "colab": {
          "base_uri": "https://localhost:8080/",
          "height": 248
        },
        "id": "b8ScN522HIBE",
        "outputId": "2d7b59ff-fa52-49a0-ad20-8afe3750d83d"
      },
      "execution_count": null,
      "outputs": [
        {
          "output_type": "display_data",
          "data": {
            "text/plain": [
              "<Figure size 432x288 with 1 Axes>"
            ],
            "image/png": "[encoded data removed]"
          },
          "metadata": {}
        }
      ]
    },
    {
      "cell_type": "code",
      "source": [
        "# Plot numerical variables in DF1\n",
        "for col in ['Weight','Age_at_Diagnosis']:\n",
        "  df = df1[[col, 'Tissue']]\n",
        "  sns.stripplot(data=df, x='Tissue', y=col, color='black')\n",
        "  sns.boxplot(data=df, x='Tissue', y=col)\n",
        "  plt.title(col)\n",
        "  plt.show()"
      ],
      "metadata": {
        "colab": {
          "base_uri": "https://localhost:8080/",
          "height": 573
        },
        "id": "SWMc9fLcEWob",
        "outputId": "dec56e0d-1335-45b8-cb74-a1d2f220367e"
      },
      "execution_count": null,
      "outputs": [
        {
          "output_type": "display_data",
          "data": {
            "text/plain": [
              "<Figure size 432x288 with 1 Axes>"
            ],
            "image/png": "[encoded data removed]"
          },
          "metadata": {
            "needs_background": "light"
          }
        },
        {
          "output_type": "display_data",
          "data": {
            "text/plain": [
              "<Figure size 432x288 with 1 Axes>"
            ],
            "image/png": "[encoded data removed]"
          },
          "metadata": {
            "needs_background": "light"
          }
        }
      ]
    }
  ]
}