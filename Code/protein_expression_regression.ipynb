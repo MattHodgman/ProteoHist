{
  "cells": [
    {
      "cell_type": "markdown",
      "metadata": {
        "id": "view-in-github",
        "colab_type": "text"
      },
      "source": [
        "<a href=\"https://colab.research.google.com/github/MattHodgman/ProteoHist/blob/main/protein_expression_regression.ipynb\" target=\"_parent\"><img src=\"https://colab.research.google.com/assets/colab-badge.svg\" alt=\"Open In Colab\"/></a>"
      ]
    },
    {
      "cell_type": "markdown",
      "metadata": {
        "id": "I0Sxb42O-gDY"
      },
      "source": [
        "# Regression model to predict protein expression in tumor and normal tissue"
      ]
    },
    {
      "cell_type": "markdown",
      "metadata": {
        "id": "ib-HJq7b_tD7"
      },
      "source": [
        "## Set up and functions"
      ]
    },
    {
      "cell_type": "code",
      "execution_count": null,
      "metadata": {
        "id": "F34Lm4ysLgMN"
      },
      "outputs": [],
      "source": [
        "import os\n",
        "import h5py\n",
        "import numpy as np\n",
        "import pandas as pd\n",
        "import seaborn as sns\n",
        "import matplotlib.pyplot as plt\n",
        "import seaborn as sns\n",
        "\n",
        "from sklearn.utils import resample\n",
        "from sklearn.model_selection import train_test_split\n",
        "from sklearn.linear_model import LinearRegression\n",
        "from sklearn.metrics import mean_absolute_error, r2_score\n",
        "from sklearn.multioutput import MultiOutputRegressor\n",
        "from sklearn.preprocessing import StandardScaler\n",
        "import pickle"
      ]
    },
    {
      "cell_type": "code",
      "execution_count": null,
      "metadata": {
        "id": "XZv7IeMhzPlL"
      },
      "outputs": [],
      "source": [
        "# paths and functions\n",
        "tumor_path = '/content/drive/MyDrive/BIOINF_590/Data/Images/clam_output/tumor/FEATURES_DIRECTORY/h5_files/'\n",
        "normal_path = '/content/drive/MyDrive/BIOINF_590/Data/Images/clam_output/normal/FEATURES_DIRECTORY/h5_files/'\n",
        "both_path = '/content/drive/MyDrive/BIOINF_590/Data/Images/clam_output/both/FEATURES_DIRECTORY/h5_files/'\n",
        "\n",
        "\n",
        "def make_df(path, group):\n",
        "  files = os.listdir(path)\n",
        "  ids = pd.DataFrame([id[:-3] for id in files], columns=['id'])\n",
        "  df_ids = pd.DataFrame(ids)\n",
        "  df_ids[['sample', 'id']] = df_ids['id'].str.rsplit('-', 1, expand=True)\n",
        "  df_ids['file'] = df_ids['sample'] + '-' + df_ids['id'] + '.h5'\n",
        "  df_ids['group'] = group\n",
        "\n",
        "  return df_ids\n",
        "\n",
        "\n",
        "def read_features(path, file_name, class_labels):\n",
        "  f = h5py.File(f'{path}/{file_name}')\n",
        "  x = np.array(f['features'])\n",
        "\n",
        "  coords = np.array(f['coords'])\n",
        "  x = np.hstack((np.full((x.shape[0], len(class_labels)), class_labels), x))\n",
        "  x = np.hstack((coords, x))\n",
        "  file_name_n_patches = [file_name, x.shape[0]]\n",
        "\n",
        "  return x, file_name_n_patches\n",
        "\n",
        "\n",
        "def get_X(df, targets):\n",
        "  X = np.empty((0, 1024 + 2 + len(targets))) # 2 for the patch coords\n",
        "  file_patch_dict = {}\n",
        "  file_patch_count = []\n",
        "\n",
        "  for index, row in df.iterrows():\n",
        "    group = row['group']\n",
        "    path = f'/content/drive/MyDrive/BIOINF_590/Data/Images/clam_output/{group}/FEATURES_DIRECTORY/h5_files'\n",
        "    x, file_name_n_patches = read_features(path, row['file'], list(row[targets].values))\n",
        "    file_patch_dict[file_name_n_patches[0]] = [X.shape[0], X.shape[0]+file_name_n_patches[1]-1]\n",
        "    file_patch_count.append(file_name_n_patches)\n",
        "    X = np.vstack((X, x))\n",
        "\n",
        "  return X, file_patch_dict, file_patch_count\n",
        "\n",
        "\n",
        "def format_protein_expression(df, n_proteins):\n",
        "  df = df.sort_values('p')\n",
        "  proteins = df[:n_proteins]['gene'].values.tolist()\n",
        "  df = df[:n_proteins].T.reset_index()\n",
        "  new_header = df.iloc[0] \n",
        "  df = df[2:] # remove gene and p-value rows\n",
        "  df.columns = new_header\n",
        "  df = df.rename(columns={'gene' : 'idx'})\n",
        "  \n",
        "  return df, proteins\n",
        "\n",
        "\n",
        "def get_proteins(df, proteins):\n",
        "  df = df[df['gene'].isin(proteins)].T.reset_index()\n",
        "  new_header = df.iloc[0]\n",
        "  df = df[2:] # remove gene and p-value rows\n",
        "  df.columns = new_header\n",
        "  df = df.rename(columns={'gene' : 'idx'})\n",
        "\n",
        "  return df\n",
        "\n",
        "\n",
        "def get_patch_values(all_file_patch_counts, coords):\n",
        "  patch_values = []\n",
        "  i = 0\n",
        "  for x in all_file_patch_counts:\n",
        "    file_name = x[0] # get file name\n",
        "    n = x[1] # get number of patches\n",
        "    patch_coords = coords[i:i+n,:]\n",
        "    i = i + n\n",
        "\n",
        "    for patch in patch_coords:\n",
        "      patch_values.append([file_name, patch[0], patch[1]])\n",
        "\n",
        "  return patch_values\n",
        "\n",
        "\n",
        "def write(patch_values, y_preds, target, file_name):\n",
        "  df_results = pd.DataFrame(np.hstack((np.array(patch_values), y_preds)), columns=['file_name', 'x', 'y', target])\n",
        "  df_results.to_csv(f'/content/drive/MyDrive/BIOINF_590/Data/PredictedPatchExpression/{file_name}.csv', index=False)\n",
        "\n",
        "\n",
        "def load_batch(df, targets):\n",
        "  X, file_patch_dict, file_patch_count = get_X(df, targets)\n",
        "\n",
        "  # extract patch coords\n",
        "  coords = X[:,:2]\n",
        "  X = np.delete(X, [0,1], axis=1)\n",
        "\n",
        "  # extract class label\n",
        "  y = X[:,:len(targets)]\n",
        "  X = np.delete(X, list(range(len(targets))), axis=1)\n",
        "\n",
        "  return X, y, coords, file_patch_dict, file_patch_count"
      ]
    },
    {
      "cell_type": "markdown",
      "metadata": {
        "id": "u3CDcAg2X6cc"
      },
      "source": [
        "## Load, format, preprocess data"
      ]
    },
    {
      "cell_type": "markdown",
      "metadata": {
        "id": "bW6jTN6a_qCG"
      },
      "source": [
        "### Prep metadata"
      ]
    },
    {
      "cell_type": "code",
      "execution_count": null,
      "metadata": {
        "id": "alHFforI4Jdw",
        "colab": {
          "base_uri": "https://localhost:8080/"
        },
        "outputId": "7302b4da-5d41-4261-f43d-89f85e0f1757"
      },
      "outputs": [
        {
          "output_type": "stream",
          "name": "stderr",
          "text": [
            "<ipython-input-131-a15bb7af1763>:35: SettingWithCopyWarning: \n",
            "A value is trying to be set on a copy of a slice from a DataFrame.\n",
            "Try using .loc[row_indexer,col_indexer] = value instead\n",
            "\n",
            "See the caveats in the documentation: https://pandas.pydata.org/pandas-docs/stable/user_guide/indexing.html#returning-a-view-versus-a-copy\n",
            "  x['bin'] = pd.cut(x['p'], 10)\n"
          ]
        }
      ],
      "source": [
        "# get metadata\n",
        "df = pd.concat([make_df(normal_path, 'normal'), make_df(tumor_path, 'tumor'), make_df(both_path, 'both')])\n",
        "df['class'] = df['group'].map({'normal' : 0, 'tumor' : 1, 'both' : 2})\n",
        "\n",
        "# get id mapping\n",
        "df_ids = pd.read_excel('/content/drive/MyDrive/BIOINF_590/Data/Metadata/mmc1.xlsx')\n",
        "df_ids['Proteomics_Tumor_Normal'].unique()\n",
        "df_ids['Proteomics_Tumor_Normal'] = df_ids['Proteomics_Tumor_Normal'].map({'Tumor' : 'tumor', 'Adjacent_normal' : 'normal', 'Myometrium_normal' : 'normal', 'Enriched_normal' : 'normal'})\n",
        "\n",
        "# combine\n",
        "df = pd.merge(df, \n",
        "         df_ids[['Proteomics_Participant_ID','idx', 'Proteomics_Tumor_Normal']], \n",
        "         left_on='sample', \n",
        "         right_on='Proteomics_Participant_ID')\n",
        "\n",
        "df = df[(df['group'] == df['Proteomics_Tumor_Normal']) | ((df['group'] == 'both') & (df['Proteomics_Tumor_Normal'] == 'tumor'))]\n",
        "df = df.drop(['Proteomics_Participant_ID','Proteomics_Tumor_Normal'], axis=1)\n",
        "\n",
        "# get proteomics data\n",
        "df_tumor_high = pd.read_csv('/content/drive/MyDrive/BIOINF_590/Data/ExpressionData/ucec_proteome_tumor_high_p.txt', delimiter='\\t')\n",
        "df_tumor_low = pd.read_csv('/content/drive/MyDrive/BIOINF_590/Data/ExpressionData/ucec_proteome_tumor_low_p.txt', delimiter='\\t')\n",
        "\n",
        "# get top 5 significant proteins for both low and high expression\n",
        "df_tumor_high_top, high_proteins = format_protein_expression(df_tumor_high, 5)\n",
        "df_tumor_low_top, low_proteins = format_protein_expression(df_tumor_low, 5)\n",
        "\n",
        "# get proteomics data of specific proteins with FDA approved drugs\n",
        "df_druggable_proteins = get_proteins(df_tumor_high, ['CDK12', 'SMARCA4', 'PML'])\n",
        "\n",
        "# get protein expression data for prognostic protein\n",
        "df_prognostic_protein = get_proteins(df_tumor_high, ['ASS1'])\n",
        "\n",
        "# get proteins with different p-values to test\n",
        "x = df_tumor_high[df_tumor_high['p'] < 0.5]\n",
        "x['bin'] = pd.cut(x['p'], 10)\n",
        "x = x.groupby('bin').sample(10)\n",
        "x_binned = x.copy()\n",
        "x = x.drop('bin', axis=1)\n",
        "proteins = x['gene']\n",
        "x = x.T.reset_index()\n",
        "new_header = x.iloc[0]\n",
        "x = x[2:] # remove gene and p-value rows\n",
        "x.columns = new_header\n",
        "x = x.rename(columns={'gene' : 'idx'})\n",
        "nan_prots = x.columns[x.isna().any()].tolist() # get proteins with nans\n",
        "for p in nan_prots:\n",
        "  m = x[p].mean()\n",
        "  x[p].fillna(value=m, inplace=True) # replace nan with mean\n",
        "\n",
        "# combine\n",
        "df = pd.merge(df, df_tumor_high_top, on='idx')\n",
        "df = pd.merge(df, df_tumor_low_top, on='idx')\n",
        "df = pd.merge(df, df_druggable_proteins, on='idx')\n",
        "df = pd.merge(df, df_prognostic_protein, on='idx')\n",
        "df = pd.merge(df, x, on='idx')\n",
        "\n",
        "# make balanced subset (without data leakage) for training and testing \n",
        "df2 = df[df['group'] != 'both'].groupby('sample').first().reset_index()"
      ]
    },
    {
      "cell_type": "code",
      "source": [
        "sns.histplot(data=df_tumor_high, x='p')"
      ],
      "metadata": {
        "colab": {
          "base_uri": "https://localhost:8080/",
          "height": 296
        },
        "id": "uXyhYpW3L2Fu",
        "outputId": "308be329-ed7d-4f59-c14d-d4177db59895"
      },
      "execution_count": null,
      "outputs": [
        {
          "output_type": "execute_result",
          "data": {
            "text/plain": [
              "<matplotlib.axes._subplots.AxesSubplot at 0x7f5d500f1460>"
            ]
          },
          "metadata": {},
          "execution_count": 81
        },
        {
          "output_type": "display_data",
          "data": {
            "text/plain": [
              "<Figure size 432x288 with 1 Axes>"
            ],
            "image/png": "[encoded data removed]"
          },
          "metadata": {
            "needs_background": "light"
          }
        }
      ]
    },
    {
      "cell_type": "markdown",
      "metadata": {
        "id": "7q8ukJpV_kEQ"
      },
      "source": [
        "### Prep feature and target data for model"
      ]
    },
    {
      "cell_type": "code",
      "execution_count": null,
      "metadata": {
        "id": "GUpLDVAOICJN",
        "colab": {
          "base_uri": "https://localhost:8080/"
        },
        "outputId": "48cc8116-7be3-452c-ff90-817c227cc014"
      },
      "outputs": [
        {
          "output_type": "stream",
          "name": "stdout",
          "text": [
            "0.23347669315176467 0.5858420100372937\n"
          ]
        }
      ],
      "source": [
        "# TRAIN AND TEST MODEL\n",
        "\n",
        "# get data\n",
        "X, y, coords, file_patch_dict, file_patch_count = load_batch(df2, proteins)\n",
        "X_train, X_test, y_train, y_test = train_test_split(X, y, test_size=0.3, random_state=0)\n",
        "del X, y, coords, file_patch_dict, file_patch_count\n",
        "\n",
        "# standardize the features\n",
        "scaler = StandardScaler()\n",
        "scaler.fit(X_train)\n",
        "X_train = scaler.transform(X_train)\n",
        "X_test = scaler.transform(X_test)\n",
        "\n",
        "# train and test model\n",
        "# model = LinearRegression().fit(X_train, y_train)\n",
        "model = MultiOutputRegressor(LinearRegression()).fit(X_train, y_train)\n",
        "y_preds = model.predict(X_test)\n",
        "\n",
        "print(mean_absolute_error(y_test, y_preds), r2_score(y_test, y_preds))\n",
        "# del X_train, X_test, y_train, y_test, y_preds"
      ]
    },
    {
      "cell_type": "code",
      "source": [
        "mae = mean_absolute_error(y_test, y_preds, multioutput='raw_values')\n",
        "r = r2_score(y_test, y_preds, multioutput='raw_values')\n",
        "\n",
        "cols = list(proteins)\n",
        "cols.extend(['group'])\n",
        "foo = df2[cols]\n",
        "foo = foo.groupby('group').mean()\n",
        "mean_diff = foo.loc['tumor'] - foo.loc['normal']\n",
        "\n",
        "res = pd.DataFrame(list(zip(mae, r, proteins, x_binned['p'], mean_diff)), columns=['mae', 'r2', 'protein', 'p-value', 'mean_diff'])"
      ],
      "metadata": {
        "id": "AEg1BnbCLkVH"
      },
      "execution_count": null,
      "outputs": []
    },
    {
      "cell_type": "code",
      "source": [
        "res.sort_values('r2', ascending=False)"
      ],
      "metadata": {
        "id": "RTCpwu6nY6up",
        "outputId": "a52e7772-2234-446d-f9a0-fbcd24637285",
        "colab": {
          "base_uri": "https://localhost:8080/",
          "height": 419
        }
      },
      "execution_count": null,
      "outputs": [
        {
          "output_type": "execute_result",
          "data": {
            "text/plain": [
              "         mae        r2 protein       p-value  mean_diff\n",
              "27  0.201955  0.791647    UGT8  1.425628e-01   0.252419\n",
              "9   0.226282  0.783181    RPSA  5.760362e-07   0.336618\n",
              "4   0.265797  0.773765  UBE2G2  2.175827e-06   0.302618\n",
              "24  0.112450  0.759498  ATXN10  1.123069e-01  -0.040574\n",
              "87  0.147822  0.747510   UBTD1  4.046144e-01   0.127892\n",
              "..       ...       ...     ...           ...        ...\n",
              "56  0.305810  0.484020  NDUFB6  2.506248e-01   0.189701\n",
              "46  0.548302  0.481990    FCN1  2.290129e-01  -0.057108\n",
              "78  0.152972  0.457010    RNF2  3.513821e-01   0.167140\n",
              "63  0.197961  0.440527   BLZF1  3.274573e-01  -0.129702\n",
              "11  0.125836  0.431052   STRAP  9.205780e-02   0.089440\n",
              "\n",
              "[100 rows x 5 columns]"
            ],
            "text/html": [
              "\n",
              "  <div id=\"df-3030ae31-8bb8-467b-a7e5-2f89e39db410\">\n",
              "    <div class=\"colab-df-container\">\n",
              "      <div>\n",
              "<style scoped>\n",
              "    .dataframe tbody tr th:only-of-type {\n",
              "        vertical-align: middle;\n",
              "    }\n",
              "\n",
              "    .dataframe tbody tr th {\n",
              "        vertical-align: top;\n",
              "    }\n",
              "\n",
              "    .dataframe thead th {\n",
              "        text-align: right;\n",
              "    }\n",
              "</style>\n",
              "<table border=\"1\" class=\"dataframe\">\n",
              "  <thead>\n",
              "    <tr style=\"text-align: right;\">\n",
              "      <th></th>\n",
              "      <th>mae</th>\n",
              "      <th>r2</th>\n",
              "      <th>protein</th>\n",
              "      <th>p-value</th>\n",
              "      <th>mean_diff</th>\n",
              "    </tr>\n",
              "  </thead>\n",
              "  <tbody>\n",
              "    <tr>\n",
              "      <th>27</th>\n",
              "      <td>0.201955</td>\n",
              "      <td>0.791647</td>\n",
              "      <td>UGT8</td>\n",
              "      <td>1.425628e-01</td>\n",
              "      <td>0.252419</td>\n",
              "    </tr>\n",
              "    <tr>\n",
              "      <th>9</th>\n",
              "      <td>0.226282</td>\n",
              "      <td>0.783181</td>\n",
              "      <td>RPSA</td>\n",
              "      <td>5.760362e-07</td>\n",
              "      <td>0.336618</td>\n",
              "    </tr>\n",
              "    <tr>\n",
              "      <th>4</th>\n",
              "      <td>0.265797</td>\n",
              "      <td>0.773765</td>\n",
              "      <td>UBE2G2</td>\n",
              "      <td>2.175827e-06</td>\n",
              "      <td>0.302618</td>\n",
              "    </tr>\n",
              "    <tr>\n",
              "      <th>24</th>\n",
              "      <td>0.112450</td>\n",
              "      <td>0.759498</td>\n",
              "      <td>ATXN10</td>\n",
              "      <td>1.123069e-01</td>\n",
              "      <td>-0.040574</td>\n",
              "    </tr>\n",
              "    <tr>\n",
              "      <th>87</th>\n",
              "      <td>0.147822</td>\n",
              "      <td>0.747510</td>\n",
              "      <td>UBTD1</td>\n",
              "      <td>4.046144e-01</td>\n",
              "      <td>0.127892</td>\n",
              "    </tr>\n",
              "    <tr>\n",
              "      <th>...</th>\n",
              "      <td>...</td>\n",
              "      <td>...</td>\n",
              "      <td>...</td>\n",
              "      <td>...</td>\n",
              "      <td>...</td>\n",
              "    </tr>\n",
              "    <tr>\n",
              "      <th>56</th>\n",
              "      <td>0.305810</td>\n",
              "      <td>0.484020</td>\n",
              "      <td>NDUFB6</td>\n",
              "      <td>2.506248e-01</td>\n",
              "      <td>0.189701</td>\n",
              "    </tr>\n",
              "    <tr>\n",
              "      <th>46</th>\n",
              "      <td>0.548302</td>\n",
              "      <td>0.481990</td>\n",
              "      <td>FCN1</td>\n",
              "      <td>2.290129e-01</td>\n",
              "      <td>-0.057108</td>\n",
              "    </tr>\n",
              "    <tr>\n",
              "      <th>78</th>\n",
              "      <td>0.152972</td>\n",
              "      <td>0.457010</td>\n",
              "      <td>RNF2</td>\n",
              "      <td>3.513821e-01</td>\n",
              "      <td>0.167140</td>\n",
              "    </tr>\n",
              "    <tr>\n",
              "      <th>63</th>\n",
              "      <td>0.197961</td>\n",
              "      <td>0.440527</td>\n",
              "      <td>BLZF1</td>\n",
              "      <td>3.274573e-01</td>\n",
              "      <td>-0.129702</td>\n",
              "    </tr>\n",
              "    <tr>\n",
              "      <th>11</th>\n",
              "      <td>0.125836</td>\n",
              "      <td>0.431052</td>\n",
              "      <td>STRAP</td>\n",
              "      <td>9.205780e-02</td>\n",
              "      <td>0.089440</td>\n",
              "    </tr>\n",
              "  </tbody>\n",
              "</table>\n",
              "<p>100 rows × 5 columns</p>\n",
              "</div>\n",
              "      <button class=\"colab-df-convert\" onclick=\"convertToInteractive('df-3030ae31-8bb8-467b-a7e5-2f89e39db410')\"\n",
              "              title=\"Convert this dataframe to an interactive table.\"\n",
              "              style=\"display:none;\">\n",
              "        \n",
              "  <svg xmlns=\"http://www.w3.org/2000/svg\" height=\"24px\"viewBox=\"0 0 24 24\"\n",
              "       width=\"24px\">\n",
              "    <path d=\"M0 0h24v24H0V0z\" fill=\"none\"/>\n",
              "    <path d=\"M18.56 5.44l.94 2.06.94-2.06 2.06-.94-2.06-.94-.94-2.06-.94 2.06-2.06.94zm-11 1L8.5 8.5l.94-2.06 2.06-.94-2.06-.94L8.5 2.5l-.94 2.06-2.06.94zm10 10l.94 2.06.94-2.06 2.06-.94-2.06-.94-.94-2.06-.94 2.06-2.06.94z\"/><path d=\"M17.41 7.96l-1.37-1.37c-.4-.4-.92-.59-1.43-.59-.52 0-1.04.2-1.43.59L10.3 9.45l-7.72 7.72c-.78.78-.78 2.05 0 2.83L4 21.41c.39.39.9.59 1.41.59.51 0 1.02-.2 1.41-.59l7.78-7.78 2.81-2.81c.8-.78.8-2.07 0-2.86zM5.41 20L4 18.59l7.72-7.72 1.47 1.35L5.41 20z\"/>\n",
              "  </svg>\n",
              "      </button>\n",
              "      \n",
              "  <style>\n",
              "    .colab-df-container {\n",
              "      display:flex;\n",
              "      flex-wrap:wrap;\n",
              "      gap: 12px;\n",
              "    }\n",
              "\n",
              "    .colab-df-convert {\n",
              "      background-color: #E8F0FE;\n",
              "      border: none;\n",
              "      border-radius: 50%;\n",
              "      cursor: pointer;\n",
              "      display: none;\n",
              "      fill: #1967D2;\n",
              "      height: 32px;\n",
              "      padding: 0 0 0 0;\n",
              "      width: 32px;\n",
              "    }\n",
              "\n",
              "    .colab-df-convert:hover {\n",
              "      background-color: #E2EBFA;\n",
              "      box-shadow: 0px 1px 2px rgba(60, 64, 67, 0.3), 0px 1px 3px 1px rgba(60, 64, 67, 0.15);\n",
              "      fill: #174EA6;\n",
              "    }\n",
              "\n",
              "    [theme=dark] .colab-df-convert {\n",
              "      background-color: #3B4455;\n",
              "      fill: #D2E3FC;\n",
              "    }\n",
              "\n",
              "    [theme=dark] .colab-df-convert:hover {\n",
              "      background-color: #434B5C;\n",
              "      box-shadow: 0px 1px 3px 1px rgba(0, 0, 0, 0.15);\n",
              "      filter: drop-shadow(0px 1px 2px rgba(0, 0, 0, 0.3));\n",
              "      fill: #FFFFFF;\n",
              "    }\n",
              "  </style>\n",
              "\n",
              "      <script>\n",
              "        const buttonEl =\n",
              "          document.querySelector('#df-3030ae31-8bb8-467b-a7e5-2f89e39db410 button.colab-df-convert');\n",
              "        buttonEl.style.display =\n",
              "          google.colab.kernel.accessAllowed ? 'block' : 'none';\n",
              "\n",
              "        async function convertToInteractive(key) {\n",
              "          const element = document.querySelector('#df-3030ae31-8bb8-467b-a7e5-2f89e39db410');\n",
              "          const dataTable =\n",
              "            await google.colab.kernel.invokeFunction('convertToInteractive',\n",
              "                                                     [key], {});\n",
              "          if (!dataTable) return;\n",
              "\n",
              "          const docLinkHtml = 'Like what you see? Visit the ' +\n",
              "            '<a target=\"_blank\" href=https://colab.research.google.com/notebooks/data_table.ipynb>data table notebook</a>'\n",
              "            + ' to learn more about interactive tables.';\n",
              "          element.innerHTML = '';\n",
              "          dataTable['output_type'] = 'display_data';\n",
              "          await google.colab.output.renderOutput(dataTable, element);\n",
              "          const docLink = document.createElement('div');\n",
              "          docLink.innerHTML = docLinkHtml;\n",
              "          element.appendChild(docLink);\n",
              "        }\n",
              "      </script>\n",
              "    </div>\n",
              "  </div>\n",
              "  "
            ]
          },
          "metadata": {},
          "execution_count": 195
        }
      ]
    },
    {
      "cell_type": "code",
      "source": [
        "sns.scatterplot(data=res, x='mean_diff', y='mae').set(xlabel='difference between mean group expression', ylabel='mean absolute error', title='Correlation between mean difference and mean absolute error')"
      ],
      "metadata": {
        "colab": {
          "base_uri": "https://localhost:8080/",
          "height": 346
        },
        "id": "dBJ7-n_sMQT3",
        "outputId": "ce8cd636-b91f-4d2c-ac4b-b4c30516ce6d"
      },
      "execution_count": null,
      "outputs": [
        {
          "output_type": "execute_result",
          "data": {
            "text/plain": [
              "[Text(0, 0.5, 'mean absolute error'),\n",
              " Text(0.5, 0, 'difference between mean group expression'),\n",
              " Text(0.5, 1.0, 'Correlation between mean difference and mean absolute error')]"
            ]
          },
          "metadata": {},
          "execution_count": 170
        },
        {
          "output_type": "display_data",
          "data": {
            "text/plain": [
              "<Figure size 432x288 with 1 Axes>"
            ],
            "image/png": "[encoded data removed]"
          },
          "metadata": {
            "needs_background": "light"
          }
        }
      ]
    },
    {
      "cell_type": "code",
      "source": [
        "# RUN MODEL ON ALL SLIDES\n",
        "\n",
        "dfs = np.array_split(df, 30) # split data into pieces\n",
        "all_y_preds = []\n",
        "all_coords = []\n",
        "all_file_patch_dicts = []\n",
        "all_file_patch_counts = []\n",
        "\n",
        "# iteratively fit\n",
        "for d in dfs:\n",
        "  X, y, coords, file_patch_dict, file_patch_count = load_batch(d, ['RTKN'])\n",
        "  X = scaler.transform(X)\n",
        "  y_preds = model.predict(X)\n",
        "\n",
        "  del X, y\n",
        "  all_y_preds.append(y_preds)\n",
        "  all_coords.append(coords)\n",
        "  all_file_patch_counts.extend(file_patch_count)\n",
        "\n",
        "all_y_preds = np.vstack(all_y_preds)\n",
        "all_coords = np.vstack(all_coords)"
      ],
      "metadata": {
        "id": "vh_zLsw-RJSS"
      },
      "execution_count": null,
      "outputs": []
    },
    {
      "cell_type": "code",
      "source": [
        "# format and write results\n",
        "patch_values = get_patch_values(all_file_patch_counts, all_coords)\n",
        "write(patch_values, all_y_preds, 'RTKN', 'all_slides_RTKN')"
      ],
      "metadata": {
        "id": "7tEo4c2OYnXH"
      },
      "execution_count": null,
      "outputs": []
    }
  ],
  "metadata": {
    "colab": {
      "provenance": [],
      "mount_file_id": "1-0y-X6Z2rVGzFYAQZQY0FkicY6OZ6pDP",
      "authorship_tag": "ABX9TyPoD1P2yZCvIeaGGDvUvz0H",
      "include_colab_link": true
    },
    "kernelspec": {
      "display_name": "Python 3",
      "name": "python3"
    },
    "language_info": {
      "name": "python"
    }
  },
  "nbformat": 4,
  "nbformat_minor": 0
}