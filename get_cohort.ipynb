{
  "nbformat": 4,
  "nbformat_minor": 0,
  "metadata": {
    "colab": {
      "provenance": [],
      "collapsed_sections": [
        "mJRFvEVMjosk",
        "i0gH83aevw-0",
        "jKNHi3CP0BFc",
        "DsubPvEq0GP6"
      ],
      "mount_file_id": "1gT8P1HKeLrhHkrTHoDaqN3qVhCKt8vA1",
      "authorship_tag": "ABX9TyMoLrugSB8aEvH9cKn7m2ff",
      "include_colab_link": true
    },
    "kernelspec": {
      "name": "python3",
      "display_name": "Python 3"
    },
    "language_info": {
      "name": "python"
    }
  },
  "cells": [
    {
      "cell_type": "markdown",
      "metadata": {
        "id": "view-in-github",
        "colab_type": "text"
      },
      "source": [
        "<a href=\"https://colab.research.google.com/github/MattHodgman/ProteoHist/blob/main/get_cohort.ipynb\" target=\"_parent\"><img src=\"https://colab.research.google.com/assets/colab-badge.svg\" alt=\"Open In Colab\"/></a>"
      ]
    },
    {
      "cell_type": "markdown",
      "source": [
        "# This script is for getting our cohort and metadata"
      ],
      "metadata": {
        "id": "NUX6Foeht81E"
      }
    },
    {
      "cell_type": "markdown",
      "source": [
        "## Get and merge data"
      ],
      "metadata": {
        "id": "W_V4o8SElGFY"
      }
    },
    {
      "cell_type": "code",
      "execution_count": null,
      "metadata": {
        "id": "obzoKNP5sXoc"
      },
      "outputs": [],
      "source": [
        "import pandas as pd\n",
        "import os"
      ]
    },
    {
      "cell_type": "code",
      "source": [
        "df_histology = pd.read_csv('/content/drive/MyDrive/BIOINF_590/Data/Metadata/cohort.csv') # load histology metadata\n",
        "df_proteomic = pd.read_excel('/content/drive/MyDrive/BIOINF_590/Data/Metadata/mmc1.xlsx') # load df_proteomic metadata\n",
        "df_normal_proteomics = pd.read_csv('/content/drive/MyDrive/BIOINF_590/Data/ExpressionData/ucec_proteome_normal.txt', delimiter='\\t')\n",
        "df_tumor_proteomics = pd.read_csv('/content/drive/MyDrive/BIOINF_590/Data/ExpressionData/ucec_proteome_tumor.txt', delimiter='\\t')"
      ],
      "metadata": {
        "id": "B-I3T7E_uSfz"
      },
      "execution_count": null,
      "outputs": []
    },
    {
      "cell_type": "code",
      "source": [
        "df_hist_prot = pd.merge(df_histology, df_proteomic, \n",
        "              left_on='Case_ID', right_on='Proteomics_Participant_ID', \n",
        "              suffixes=['_histology','_proteomics'])"
      ],
      "metadata": {
        "id": "nuDgQw74QVgx"
      },
      "execution_count": null,
      "outputs": []
    },
    {
      "cell_type": "code",
      "source": [
        "# format and combine df\n",
        "df_normal_proteomics['Group'] = 'normal'\n",
        "df_tumor_proteomics['Group'] = 'tumor'\n",
        "df_target_proteins = pd.concat([df_normal_proteomics, df_tumor_proteomics])\n",
        "df_new = pd.merge(df_hist_prot[['Case_ID','Specimen_ID','Slide_ID','Specimen_Type','Tumor_Percent_Tumor_Nuclei', 'Case_excluded']], df_target_proteins, left_on='Case_ID', right_on='sample')\n",
        "df_new.loc[df_new['Tumor_Percent_Tumor_Nuclei'] < 90, 'Group'] = 'both'\n",
        "df_new = df_new[df_new['Case_excluded'] == 'No']\n",
        "\n",
        "print(df_new['Group'].value_counts())"
      ],
      "metadata": {
        "colab": {
          "base_uri": "https://localhost:8080/"
        },
        "id": "mZ9FOkouNBHo",
        "outputId": "8a0d883d-6b34-49b2-d0f9-a66cbea99ef8"
      },
      "execution_count": null,
      "outputs": [
        {
          "output_type": "stream",
          "name": "stdout",
          "text": [
            "tumor     317\n",
            "both      218\n",
            "normal    132\n",
            "Name: Group, dtype: int64\n"
          ]
        }
      ]
    },
    {
      "cell_type": "code",
      "source": [
        "df_new[df_new['Case_ID'] == 'C3L-01283']"
      ],
      "metadata": {
        "colab": {
          "base_uri": "https://localhost:8080/",
          "height": 49
        },
        "id": "mSU2DAA7SDPo",
        "outputId": "2374ceb2-e485-431a-8c6b-2bc1857fb369"
      },
      "execution_count": null,
      "outputs": [
        {
          "output_type": "execute_result",
          "data": {
            "text/plain": [
              "Empty DataFrame\n",
              "Columns: [Case_ID, Specimen_ID, Slide_ID, Specimen_Type, Tumor_Percent_Tumor_Nuclei, Case_excluded, sample, ARID1A, CTNNB1, KRAS, PTEN, TP53, Group]\n",
              "Index: []"
            ],
            "text/html": [
              "\n",
              "  <div id=\"df-0e7d4ba3-55c0-47e6-b8b0-bc495c653c66\">\n",
              "    <div class=\"colab-df-container\">\n",
              "      <div>\n",
              "<style scoped>\n",
              "    .dataframe tbody tr th:only-of-type {\n",
              "        vertical-align: middle;\n",
              "    }\n",
              "\n",
              "    .dataframe tbody tr th {\n",
              "        vertical-align: top;\n",
              "    }\n",
              "\n",
              "    .dataframe thead th {\n",
              "        text-align: right;\n",
              "    }\n",
              "</style>\n",
              "<table border=\"1\" class=\"dataframe\">\n",
              "  <thead>\n",
              "    <tr style=\"text-align: right;\">\n",
              "      <th></th>\n",
              "      <th>Case_ID</th>\n",
              "      <th>Specimen_ID</th>\n",
              "      <th>Slide_ID</th>\n",
              "      <th>Specimen_Type</th>\n",
              "      <th>Tumor_Percent_Tumor_Nuclei</th>\n",
              "      <th>Case_excluded</th>\n",
              "      <th>sample</th>\n",
              "      <th>ARID1A</th>\n",
              "      <th>CTNNB1</th>\n",
              "      <th>KRAS</th>\n",
              "      <th>PTEN</th>\n",
              "      <th>TP53</th>\n",
              "      <th>Group</th>\n",
              "    </tr>\n",
              "  </thead>\n",
              "  <tbody>\n",
              "  </tbody>\n",
              "</table>\n",
              "</div>\n",
              "      <button class=\"colab-df-convert\" onclick=\"convertToInteractive('df-0e7d4ba3-55c0-47e6-b8b0-bc495c653c66')\"\n",
              "              title=\"Convert this dataframe to an interactive table.\"\n",
              "              style=\"display:none;\">\n",
              "        \n",
              "  <svg xmlns=\"http://www.w3.org/2000/svg\" height=\"24px\"viewBox=\"0 0 24 24\"\n",
              "       width=\"24px\">\n",
              "    <path d=\"M0 0h24v24H0V0z\" fill=\"none\"/>\n",
              "    <path d=\"M18.56 5.44l.94 2.06.94-2.06 2.06-.94-2.06-.94-.94-2.06-.94 2.06-2.06.94zm-11 1L8.5 8.5l.94-2.06 2.06-.94-2.06-.94L8.5 2.5l-.94 2.06-2.06.94zm10 10l.94 2.06.94-2.06 2.06-.94-2.06-.94-.94-2.06-.94 2.06-2.06.94z\"/><path d=\"M17.41 7.96l-1.37-1.37c-.4-.4-.92-.59-1.43-.59-.52 0-1.04.2-1.43.59L10.3 9.45l-7.72 7.72c-.78.78-.78 2.05 0 2.83L4 21.41c.39.39.9.59 1.41.59.51 0 1.02-.2 1.41-.59l7.78-7.78 2.81-2.81c.8-.78.8-2.07 0-2.86zM5.41 20L4 18.59l7.72-7.72 1.47 1.35L5.41 20z\"/>\n",
              "  </svg>\n",
              "      </button>\n",
              "      \n",
              "  <style>\n",
              "    .colab-df-container {\n",
              "      display:flex;\n",
              "      flex-wrap:wrap;\n",
              "      gap: 12px;\n",
              "    }\n",
              "\n",
              "    .colab-df-convert {\n",
              "      background-color: #E8F0FE;\n",
              "      border: none;\n",
              "      border-radius: 50%;\n",
              "      cursor: pointer;\n",
              "      display: none;\n",
              "      fill: #1967D2;\n",
              "      height: 32px;\n",
              "      padding: 0 0 0 0;\n",
              "      width: 32px;\n",
              "    }\n",
              "\n",
              "    .colab-df-convert:hover {\n",
              "      background-color: #E2EBFA;\n",
              "      box-shadow: 0px 1px 2px rgba(60, 64, 67, 0.3), 0px 1px 3px 1px rgba(60, 64, 67, 0.15);\n",
              "      fill: #174EA6;\n",
              "    }\n",
              "\n",
              "    [theme=dark] .colab-df-convert {\n",
              "      background-color: #3B4455;\n",
              "      fill: #D2E3FC;\n",
              "    }\n",
              "\n",
              "    [theme=dark] .colab-df-convert:hover {\n",
              "      background-color: #434B5C;\n",
              "      box-shadow: 0px 1px 3px 1px rgba(0, 0, 0, 0.15);\n",
              "      filter: drop-shadow(0px 1px 2px rgba(0, 0, 0, 0.3));\n",
              "      fill: #FFFFFF;\n",
              "    }\n",
              "  </style>\n",
              "\n",
              "      <script>\n",
              "        const buttonEl =\n",
              "          document.querySelector('#df-0e7d4ba3-55c0-47e6-b8b0-bc495c653c66 button.colab-df-convert');\n",
              "        buttonEl.style.display =\n",
              "          google.colab.kernel.accessAllowed ? 'block' : 'none';\n",
              "\n",
              "        async function convertToInteractive(key) {\n",
              "          const element = document.querySelector('#df-0e7d4ba3-55c0-47e6-b8b0-bc495c653c66');\n",
              "          const dataTable =\n",
              "            await google.colab.kernel.invokeFunction('convertToInteractive',\n",
              "                                                     [key], {});\n",
              "          if (!dataTable) return;\n",
              "\n",
              "          const docLinkHtml = 'Like what you see? Visit the ' +\n",
              "            '<a target=\"_blank\" href=https://colab.research.google.com/notebooks/data_table.ipynb>data table notebook</a>'\n",
              "            + ' to learn more about interactive tables.';\n",
              "          element.innerHTML = '';\n",
              "          dataTable['output_type'] = 'display_data';\n",
              "          await google.colab.output.renderOutput(dataTable, element);\n",
              "          const docLink = document.createElement('div');\n",
              "          docLink.innerHTML = docLinkHtml;\n",
              "          element.appendChild(docLink);\n",
              "        }\n",
              "      </script>\n",
              "    </div>\n",
              "  </div>\n",
              "  "
            ]
          },
          "metadata": {},
          "execution_count": 10
        }
      ]
    },
    {
      "cell_type": "code",
      "source": [
        "normal_slide_ids = sorted(df_new[(df_new['Group'] == 'normal') & (df_new['Specimen_Type'] == 'normal_tissue')]['Slide_ID'].unique())\n",
        "tumor_slide_ids = sorted(df_new[(df_new['Group'] == 'tumor') & (df_new['Specimen_Type'] == 'tumor_tissue')]['Slide_ID'].unique())\n",
        "both_slide_ids = sorted(df_new[(df_new['Group'] == 'both') & (df_new['Specimen_Type'] == 'tumor_tissue')]['Slide_ID'].unique())"
      ],
      "metadata": {
        "id": "A0i-2w8jOtjW"
      },
      "execution_count": null,
      "outputs": []
    },
    {
      "cell_type": "code",
      "source": [
        "print(len(normal_slide_ids))\n",
        "print(len(tumor_slide_ids))\n",
        "print(len(both_slide_ids))"
      ],
      "metadata": {
        "colab": {
          "base_uri": "https://localhost:8080/"
        },
        "id": "1HOh4c1dRZQs",
        "outputId": "c876e9ed-6943-4a0a-99b3-f36efedc0fd6"
      },
      "execution_count": null,
      "outputs": [
        {
          "output_type": "stream",
          "name": "stdout",
          "text": [
            "38\n",
            "122\n",
            "125\n"
          ]
        }
      ]
    },
    {
      "cell_type": "code",
      "source": [
        "df_new['Case_ID'].nunique() # number of patients!"
      ],
      "metadata": {
        "colab": {
          "base_uri": "https://localhost:8080/"
        },
        "id": "EQNZwIHyTrxf",
        "outputId": "8816d508-fd77-4600-895f-572f2d06c9c5"
      },
      "execution_count": null,
      "outputs": [
        {
          "output_type": "execute_result",
          "data": {
            "text/plain": [
              "95"
            ]
          },
          "metadata": {},
          "execution_count": 87
        }
      ]
    },
    {
      "cell_type": "code",
      "source": [
        "# keep wanted columns\n",
        "df_histology = df_histology[['Case_ID','Specimen_ID','Slide_ID','Specimen_Type',\n",
        "                             'Weight','Tumor_Site','Tumor_Histological_Type',\n",
        "                             'Tumor_Segment_Acceptable','Tumor_Percent_Tumor_Nuclei',\n",
        "                             'Tumor_Percent_Total_Cellularity','Tumor_Percent_Necrosis',\n",
        "                             'Normal_Free_of_Tumor','Progression_or_Recurrence',\n",
        "                             'Gender','Age_at_Diagnosis','Ethnicity','Race','Vital_Status']]\n",
        "\n",
        "# There are a lot more columns we could look at!\n",
        "df_proteomic = df_proteomic[['idx','Proteomics_Participant_ID','Proteomics_Parent_Sample_IDs',\n",
        "                             'Case_excluded','Proteomics_TMT_batch','Proteomics_TMT_plex',\n",
        "                             'Proteomics_TMT_channel','Proteomics_Tumor_Normal',\n",
        "                             'Country','Histologic_Grade_FIGO','Myometrial_invasion_Specify',\n",
        "                             'Histologic_type','Tumor_purity','tumor_Stage-Pathological',\n",
        "                             'BMI','Age','Diabetes','Race','Ethnicity','Gender',\n",
        "                             'Tumor_Site','Tumor_Site_Other']]"
      ],
      "metadata": {
        "id": "IclvKlU9nSGn"
      },
      "execution_count": null,
      "outputs": []
    },
    {
      "cell_type": "code",
      "source": [
        "df = pd.merge(df_histology, df_proteomic, \n",
        "              left_on='Specimen_ID', right_on='Proteomics_Parent_Sample_IDs', \n",
        "              suffixes=['_histology','_proteomics'])"
      ],
      "metadata": {
        "id": "N2d6G5SjsaZE"
      },
      "execution_count": null,
      "outputs": []
    },
    {
      "cell_type": "markdown",
      "source": [
        "## Filter out excluded samples"
      ],
      "metadata": {
        "id": "mJRFvEVMjosk"
      }
    },
    {
      "cell_type": "code",
      "source": [
        "df = df[df['Case_excluded'] == 'No']"
      ],
      "metadata": {
        "id": "aqxcMTYjjrJE"
      },
      "execution_count": null,
      "outputs": []
    },
    {
      "cell_type": "markdown",
      "source": [
        "## Group\n",
        "\n"
      ],
      "metadata": {
        "id": "i0gH83aevw-0"
      }
    },
    {
      "cell_type": "code",
      "source": [
        "# groups\n",
        "TUMOR = 'tumor'\n",
        "BOTH = 'both'\n",
        "NORMAL = 'normal'"
      ],
      "metadata": {
        "id": "0swtCh3FzQ42"
      },
      "execution_count": null,
      "outputs": []
    },
    {
      "cell_type": "code",
      "source": [
        "# label different groups: tumor, both, normal\n",
        "df['Group'] = BOTH\n",
        "df.loc[df['Tumor_Percent_Tumor_Nuclei'] >= 90, 'Group'] = TUMOR\n",
        "df.loc[df['Specimen_Type'] == 'normal_tissue', 'Group'] = NORMAL"
      ],
      "metadata": {
        "id": "-HMMUonfvnMS"
      },
      "execution_count": null,
      "outputs": []
    },
    {
      "cell_type": "markdown",
      "source": [
        "#### IMPORTANT! Some patients have data in multiple groups! We need to prevent data leakage"
      ],
      "metadata": {
        "id": "jKNHi3CP0BFc"
      }
    },
    {
      "cell_type": "code",
      "source": [
        "print(df['Group'].value_counts()) # number of slides/proteomic samples"
      ],
      "metadata": {
        "colab": {
          "base_uri": "https://localhost:8080/"
        },
        "id": "StCGHOpQxOLf",
        "outputId": "074e2ccf-2679-42f9-ba32-41f0057536df"
      },
      "execution_count": null,
      "outputs": [
        {
          "output_type": "stream",
          "name": "stdout",
          "text": [
            "normal    167\n",
            "both      156\n",
            "tumor     150\n",
            "Name: Group, dtype: int64\n"
          ]
        }
      ]
    },
    {
      "cell_type": "code",
      "source": [
        "tumor     50\n",
        "both      36\n",
        "normal    30"
      ],
      "metadata": {
        "id": "AedKRyqQK7XQ"
      },
      "execution_count": null,
      "outputs": []
    },
    {
      "cell_type": "code",
      "source": [
        "print(df[(df['Group'] == TUMOR) | (df['Group'] == NORMAL)]['Case_ID'].nunique()) # number of patients"
      ],
      "metadata": {
        "colab": {
          "base_uri": "https://localhost:8080/"
        },
        "id": "QIP-E57l1Ky6",
        "outputId": "c087a2f8-0e43-42a6-9dbc-f23b51f58d16"
      },
      "execution_count": null,
      "outputs": [
        {
          "output_type": "stream",
          "name": "stdout",
          "text": [
            "94\n"
          ]
        }
      ]
    },
    {
      "cell_type": "code",
      "source": [
        "# normal protein expression samples are missing some metadata that is contained in the tumor protein expression sample row of the same patient, copy it over for later analysis\n",
        "\n",
        "cols_to_copy = ['BMI','Age','Diabetes','Race_proteomics','Ethnicity_proteomics','Gender_proteomics']\n",
        "normal_patients = df[df['Group'] == NORMAL]['Case_ID'].unique()\n",
        "\n",
        "for p in normal_patients:\n",
        "\n",
        "  # get indices of patients samples\n",
        "  s = df[df['Case_ID'] == p]['Group']\n",
        "  i_normal = s[s == NORMAL].index[0]\n",
        "\n",
        "  if s[(s == TUMOR) | (s == BOTH)].shape[0] > 0:\n",
        "    i_alt = s[(s == TUMOR) | (s == BOTH)].index[0]\n",
        "    for c in cols_to_copy:\n",
        "      df.loc[i_normal,c] = df.loc[i_alt,c]"
      ],
      "metadata": {
        "id": "jcNDvLSVKwkl"
      },
      "execution_count": null,
      "outputs": []
    },
    {
      "cell_type": "markdown",
      "source": [
        "## Delete unwanted slides and list ones to add (**WARNING!** this could delete other files!)"
      ],
      "metadata": {
        "id": "t_qlL9JDABXf"
      }
    },
    {
      "cell_type": "code",
      "source": [
        "# Make sure we have the correct slides\n",
        "def delete_excess_slides(slide_list, group):\n",
        "  path = '/content/drive/MyDrive/BIOINF_590/Data/Images/raw_images'\n",
        "  dir_list = os.listdir(f'{path}/{group}')\n",
        "\n",
        "  slide_files_we_have = set()\n",
        "  for file_name in dir_list:\n",
        "    if '.svs' in file_name:\n",
        "      slide_files_we_have.add(file_name)\n",
        "\n",
        "  # slide_files_we_want = set(dfx[dfx['Group'] == group]['Slide_ID'].astype(str).unique() + '.svs')\n",
        "  slide_files_we_want = set([slide + '.svs' for slide in slide_list])\n",
        "  print('we want', len(slide_files_we_want), 'slides total')\n",
        "  slide_files_to_download = slide_files_we_want.difference(slide_files_we_have)\n",
        "  print('we need to download', len(slide_files_to_download), 'slides')\n",
        "\n",
        "  # delete excess slides\n",
        "  slide_files_to_remove = slide_files_we_have.difference(slide_files_we_want)\n",
        "  print(f'{len(slide_files_to_remove)} to remove:', slide_files_to_remove)\n",
        "  # for file_name in slide_files_to_remove:\n",
        "  #   file_path = f'{path}/{group}/{file_name}'\n",
        "  #   if os.path.isfile(file_path) and '.svs' in file_name:\n",
        "  #     os.remove(file_path)\n",
        "  \n",
        "  return slide_files_to_download"
      ],
      "metadata": {
        "id": "0SFztRJt2BYp"
      },
      "execution_count": null,
      "outputs": []
    },
    {
      "cell_type": "code",
      "source": [
        "print(len(normal_slide_ids))\n",
        "print(len(tumor_slide_ids))\n",
        "print(len(both_slide_ids))"
      ],
      "metadata": {
        "colab": {
          "base_uri": "https://localhost:8080/"
        },
        "id": "pV4TYJMkUjd3",
        "outputId": "d3e84aae-14b3-4b5e-f248-6d77f92eb66f"
      },
      "execution_count": null,
      "outputs": [
        {
          "output_type": "stream",
          "name": "stdout",
          "text": [
            "38\n",
            "122\n",
            "125\n"
          ]
        }
      ]
    },
    {
      "cell_type": "code",
      "source": [
        "slide_files_to_download = delete_excess_slides(tumor_slide_ids, 'tumor')\n",
        "len(slide_files_to_download)"
      ],
      "metadata": {
        "colab": {
          "base_uri": "https://localhost:8080/"
        },
        "id": "OAWY4SPI772q",
        "outputId": "0ae178a4-3b1d-40f0-a754-afc9ac76ece7"
      },
      "execution_count": null,
      "outputs": [
        {
          "output_type": "stream",
          "name": "stdout",
          "text": [
            "we want 122 slides total\n",
            "we need to download 73 slides\n",
            "1 to remove: {'C3L-01284-22.svs'}\n"
          ]
        },
        {
          "output_type": "execute_result",
          "data": {
            "text/plain": [
              "73"
            ]
          },
          "metadata": {},
          "execution_count": 167
        }
      ]
    },
    {
      "cell_type": "code",
      "source": [
        "slide_files_to_download = delete_excess_slides(normal_slide_ids, 'normal')\n",
        "slide_files_to_download"
      ],
      "metadata": {
        "colab": {
          "base_uri": "https://localhost:8080/"
        },
        "id": "JSy8R5637_TG",
        "outputId": "660fad66-56c1-4597-d827-b70cdabd4920"
      },
      "execution_count": null,
      "outputs": [
        {
          "output_type": "stream",
          "name": "stdout",
          "text": [
            "we want 38 slides total\n",
            "we need to download 8 slides\n",
            "0 to remove: set()\n"
          ]
        },
        {
          "output_type": "execute_result",
          "data": {
            "text/plain": [
              "{'C3N-00200-27.svs',\n",
              " 'C3N-00333-26.svs',\n",
              " 'C3N-00333-28.svs',\n",
              " 'C3N-00383-27.svs',\n",
              " 'C3N-00383-28.svs',\n",
              " 'C3N-00729-27.svs',\n",
              " 'C3N-00866-24.svs',\n",
              " 'C3N-01211-27.svs'}"
            ]
          },
          "metadata": {},
          "execution_count": 156
        }
      ]
    },
    {
      "cell_type": "code",
      "source": [
        "slide_files_to_download = delete_excess_slides(both_slide_ids, 'both')\n",
        "slide_files_to_download"
      ],
      "metadata": {
        "colab": {
          "base_uri": "https://localhost:8080/"
        },
        "id": "iDiuLC9uUvAR",
        "outputId": "95c5e6e0-09dd-4cc2-c15d-59499a52ba73"
      },
      "execution_count": null,
      "outputs": [
        {
          "output_type": "stream",
          "name": "stdout",
          "text": [
            "we want 125 slides total\n",
            "we need to download 125 slides\n",
            "0 to remove: set()\n"
          ]
        },
        {
          "output_type": "execute_result",
          "data": {
            "text/plain": [
              "{'C3L-00006-21.svs',\n",
              " 'C3L-00143-21.svs',\n",
              " 'C3L-00143-22.svs',\n",
              " 'C3L-00145-21.svs',\n",
              " 'C3L-00156-21.svs',\n",
              " 'C3L-00156-22.svs',\n",
              " 'C3L-00161-21.svs',\n",
              " 'C3L-00161-22.svs',\n",
              " 'C3L-00161-23.svs',\n",
              " 'C3L-00161-24.svs',\n",
              " 'C3L-00161-25.svs',\n",
              " 'C3L-00358-21.svs',\n",
              " 'C3L-00563-22.svs',\n",
              " 'C3L-00586-21.svs',\n",
              " 'C3L-00601-21.svs',\n",
              " 'C3L-00767-21.svs',\n",
              " 'C3L-00769-21.svs',\n",
              " 'C3L-00771-21.svs',\n",
              " 'C3L-00780-21.svs',\n",
              " 'C3L-00780-22.svs',\n",
              " 'C3L-00780-23.svs',\n",
              " 'C3L-00780-24.svs',\n",
              " 'C3L-00780-25.svs',\n",
              " 'C3L-00781-22.svs',\n",
              " 'C3L-00781-23.svs',\n",
              " 'C3L-00781-25.svs',\n",
              " 'C3L-00921-22.svs',\n",
              " 'C3L-00932-21.svs',\n",
              " 'C3L-00942-21.svs',\n",
              " 'C3L-00947-21.svs',\n",
              " 'C3L-00961-21.svs',\n",
              " 'C3L-00963-21.svs',\n",
              " 'C3L-01248-21.svs',\n",
              " 'C3L-01256-21.svs',\n",
              " 'C3L-01257-21.svs',\n",
              " 'C3L-01275-21.svs',\n",
              " 'C3L-01282-21.svs',\n",
              " 'C3L-01311-21.svs',\n",
              " 'C3L-01925-23.svs',\n",
              " 'C3L-01925-27.svs',\n",
              " 'C3L-01925-28.svs',\n",
              " 'C3N-00151-21.svs',\n",
              " 'C3N-00151-22.svs',\n",
              " 'C3N-00151-23.svs',\n",
              " 'C3N-00151-24.svs',\n",
              " 'C3N-00200-23.svs',\n",
              " 'C3N-00322-21.svs',\n",
              " 'C3N-00322-22.svs',\n",
              " 'C3N-00322-24.svs',\n",
              " 'C3N-00322-25.svs',\n",
              " 'C3N-00324-21.svs',\n",
              " 'C3N-00324-22.svs',\n",
              " 'C3N-00326-22.svs',\n",
              " 'C3N-00326-24.svs',\n",
              " 'C3N-00328-21.svs',\n",
              " 'C3N-00328-22.svs',\n",
              " 'C3N-00328-25.svs',\n",
              " 'C3N-00333-22.svs',\n",
              " 'C3N-00334-21.svs',\n",
              " 'C3N-00334-22.svs',\n",
              " 'C3N-00334-23.svs',\n",
              " 'C3N-00334-24.svs',\n",
              " 'C3N-00334-25.svs',\n",
              " 'C3N-00335-21.svs',\n",
              " 'C3N-00335-22.svs',\n",
              " 'C3N-00335-23.svs',\n",
              " 'C3N-00339-23.svs',\n",
              " 'C3N-00339-24.svs',\n",
              " 'C3N-00339-25.svs',\n",
              " 'C3N-00379-22.svs',\n",
              " 'C3N-00379-23.svs',\n",
              " 'C3N-00383-21.svs',\n",
              " 'C3N-00383-22.svs',\n",
              " 'C3N-00383-25.svs',\n",
              " 'C3N-00386-21.svs',\n",
              " 'C3N-00386-22.svs',\n",
              " 'C3N-00386-23.svs',\n",
              " 'C3N-00389-21.svs',\n",
              " 'C3N-00389-22.svs',\n",
              " 'C3N-00389-23.svs',\n",
              " 'C3N-00389-24.svs',\n",
              " 'C3N-00389-25.svs',\n",
              " 'C3N-00729-21.svs',\n",
              " 'C3N-00729-22.svs',\n",
              " 'C3N-00734-21.svs',\n",
              " 'C3N-00734-22.svs',\n",
              " 'C3N-00734-23.svs',\n",
              " 'C3N-00743-21.svs',\n",
              " 'C3N-00743-22.svs',\n",
              " 'C3N-00836-21.svs',\n",
              " 'C3N-00836-22.svs',\n",
              " 'C3N-00836-23.svs',\n",
              " 'C3N-00836-24.svs',\n",
              " 'C3N-00847-21.svs',\n",
              " 'C3N-00847-23.svs',\n",
              " 'C3N-00848-21.svs',\n",
              " 'C3N-00848-22.svs',\n",
              " 'C3N-00848-23.svs',\n",
              " 'C3N-00850-22.svs',\n",
              " 'C3N-00850-23.svs',\n",
              " 'C3N-00858-21.svs',\n",
              " 'C3N-00858-22.svs',\n",
              " 'C3N-00858-23.svs',\n",
              " 'C3N-00858-24.svs',\n",
              " 'C3N-00866-21.svs',\n",
              " 'C3N-01003-21.svs',\n",
              " 'C3N-01211-21.svs',\n",
              " 'C3N-01211-22.svs',\n",
              " 'C3N-01211-23.svs',\n",
              " 'C3N-01211-24.svs',\n",
              " 'C3N-01219-21.svs',\n",
              " 'C3N-01219-22.svs',\n",
              " 'C3N-01219-23.svs',\n",
              " 'C3N-01267-21.svs',\n",
              " 'C3N-01267-22.svs',\n",
              " 'C3N-01267-23.svs',\n",
              " 'C3N-01267-24.svs',\n",
              " 'C3N-01346-23.svs',\n",
              " 'C3N-01346-24.svs',\n",
              " 'C3N-01349-21.svs',\n",
              " 'C3N-01349-22.svs',\n",
              " 'C3N-01510-21.svs',\n",
              " 'C3N-01825-21.svs',\n",
              " 'C3N-01825-22.svs',\n",
              " 'C3N-01825-23.svs'}"
            ]
          },
          "metadata": {},
          "execution_count": 157
        }
      ]
    },
    {
      "cell_type": "markdown",
      "source": [
        "## Write output"
      ],
      "metadata": {
        "id": "DsubPvEq0GP6"
      }
    },
    {
      "cell_type": "code",
      "source": [
        "df.to_csv('/content/drive/MyDrive/BIOINF_590/Data/Metadata/metadata.csv', index=False)\n",
        "df[['idx','Case_ID','Specimen_ID','Slide_ID','Group']].to_csv('/content/drive/MyDrive/BIOINF_590/Data/Metadata/sample_ids.csv', index=False)"
      ],
      "metadata": {
        "id": "4byvwDRe0IB0"
      },
      "execution_count": null,
      "outputs": []
    }
  ]
}