{
  "cells": [
    {
      "cell_type": "markdown",
      "metadata": {
        "id": "view-in-github",
        "colab_type": "text"
      },
      "source": [
        "<a href=\"https://colab.research.google.com/github/MattHodgman/ProteoHist/blob/main/make_heatmap.ipynb\" target=\"_parent\"><img src=\"https://colab.research.google.com/assets/colab-badge.svg\" alt=\"Open In Colab\"/></a>"
      ]
    },
    {
      "cell_type": "code",
      "execution_count": null,
      "metadata": {
        "colab": {
          "base_uri": "https://localhost:8080/"
        },
        "id": "Y2lvaZf9jnVC",
        "outputId": "43e3109e-eb2b-4f9a-cb0a-5738012e3890"
      },
      "outputs": [
        {
          "output_type": "stream",
          "name": "stdout",
          "text": [
            "Mounted at /content/drive\n"
          ]
        }
      ],
      "source": [
        "from google.colab import drive\n",
        "drive.mount('/content/drive')"
      ]
    },
    {
      "cell_type": "code",
      "execution_count": null,
      "metadata": {
        "colab": {
          "base_uri": "https://localhost:8080/"
        },
        "id": "-R2rAZqhjP9p",
        "outputId": "6a39886a-a3e6-4b12-ab62-b36621250d8d"
      },
      "outputs": [
        {
          "output_type": "stream",
          "name": "stdout",
          "text": [
            "Looking in indexes: https://pypi.org/simple, https://us-python.pkg.dev/colab-wheels/public/simple/\n",
            "Collecting slideio\n",
            "  Downloading slideio-1.0.4-cp38-cp38-manylinux_2_17_x86_64.manylinux2014_x86_64.whl (26.4 MB)\n",
            "\u001b[K     |████████████████████████████████| 26.4 MB 176 kB/s \n",
            "\u001b[?25hRequirement already satisfied: numpy in /usr/local/lib/python3.8/dist-packages (from slideio) (1.21.6)\n",
            "Installing collected packages: slideio\n",
            "Successfully installed slideio-1.0.4\n"
          ]
        }
      ],
      "source": [
        "!pip install slideio"
      ]
    },
    {
      "cell_type": "code",
      "execution_count": null,
      "metadata": {
        "id": "dZ5r9Ud06VRw"
      },
      "outputs": [],
      "source": [
        "import os\n",
        "import h5py\n",
        "import numpy as np\n",
        "import cv2\n",
        "import matplotlib.pyplot as plt\n",
        "from skimage import color\n",
        "from skimage import io\n",
        "from PIL import Image\n",
        "import random\n",
        "from google.colab.patches import cv2_imshow\n",
        "import matplotlib.cm as cm\n",
        "import matplotlib\n",
        "import pandas as pd\n",
        "import slideio\n",
        "import pickle"
      ]
    },
    {
      "cell_type": "code",
      "execution_count": null,
      "metadata": {
        "id": "bB-cQ6t3AWSq"
      },
      "outputs": [],
      "source": [
        "def make_heat_map(slide, df, orig_height, group, protein, cmapper, show=False, save=False):\n",
        "\n",
        "  file_name = slide + '.h5'\n",
        "  coords = df[df['file_name'] == file_name][['x','y']].to_numpy()\n",
        "  expression_values = df[df['file_name'] == file_name][protein].to_numpy().reshape(-1, 1)\n",
        "\n",
        "  cv2_img = cv2.imread(f'/content/drive/MyDrive/BIOINF_590/Data/Images/clam_output/{group}/stitches/{slide}.jpg')\n",
        "\n",
        "  scaling = orig_height // cv2_img.shape[0]\n",
        "  size = 256 // scaling\n",
        "\n",
        "  # Initialize blank mask image of same dimensions for drawing the shapes\n",
        "  shapes = np.zeros_like(cv2_img, np.uint8)\n",
        "\n",
        "  # Draw shapes\n",
        "  for i in range(coords.shape[0]):\n",
        "    x = int(coords[i,0] // scaling)\n",
        "    y = int(coords[i,1] // scaling)\n",
        "    c = tuple([int(255*x) for x in cmapper.to_rgba(expression_values[i][0])[:-1]])\n",
        "    \n",
        "    cv2.rectangle(shapes, (x, y), (x+size, y+size), color=c, thickness=-1)\n",
        "\n",
        "  out = cv2_img.copy()\n",
        "  alpha = 0.3\n",
        "  mask = shapes.astype(bool)\n",
        "  out[mask] = cv2.addWeighted(cv2_img, alpha, shapes, 1 - alpha, 0)[mask]\n",
        "\n",
        "  # Visualization\n",
        "  if show:\n",
        "    print(slide, group)\n",
        "    cv2_imshow(out)\n",
        "    cv2.waitKey(0)\n",
        "    cv2.destroyAllWindows()\n",
        "\n",
        "  if save:\n",
        "    cv2.imwrite(f'/content/drive/MyDrive/BIOINF_590/Data/Images/heat_maps/{group}/{slide}.jpg', out)\n",
        "\n",
        "\n",
        "def get_original_height(slide, group):\n",
        "  slide = slideio.open_slide(f'/content/drive/MyDrive/BIOINF_590/Data/Images/raw_images/{group}/{slide}.svs',\"SVS\")\n",
        "  raw_string = slide.raw_metadata\n",
        "  height = int([x for x in raw_string.split(\"|\") if 'OriginalHeight' in x][0].split('= ')[1])\n",
        "  return height\n",
        "\n",
        "def get_group(slide):\n",
        "  groups = ['normal', 'tumor', 'both']\n",
        "  for group in groups:\n",
        "    path = f'/content/drive/MyDrive/BIOINF_590/Data/Images/clam_output/{group}/stitches/'\n",
        "    dir_list = os.listdir(path)\n",
        "    slides = [f.split('.')[0] for f in dir_list]\n",
        "    if slide in slides:\n",
        "      return group\n",
        "\n",
        "def make_cmapper(df, protein):\n",
        "  expression_values = df[protein].to_numpy().reshape(-1, 1)\n",
        "  minima = min(expression_values)\n",
        "  maxima = max(expression_values)\n",
        "  # norm = matplotlib.colors.Normalize(vmin=minima, vmax=maxima, clip=True)\n",
        "  norm = matplotlib.colors.DivergingNorm(vcenter=-0.12685, vmin=minima, vmax=maxima)\n",
        "  cmapper = cm.ScalarMappable(norm=norm, cmap=cm.bwr_r)\n",
        "  return cmapper"
      ]
    },
    {
      "cell_type": "code",
      "source": [
        "df = pd.read_csv('/content/drive/MyDrive/BIOINF_590/Data/PredictedPatchExpression/all_slides_RTKN.csv')"
      ],
      "metadata": {
        "id": "kKl-4LcycaN1"
      },
      "execution_count": null,
      "outputs": []
    },
    {
      "cell_type": "code",
      "source": [
        "# add group to df\n",
        "df['slide'] = df['file_name'].apply(lambda x: x.split('.')[0])\n",
        "\n",
        "group_map = {}\n",
        "for slide in df['slide'].unique():\n",
        "  group_map[slide] = get_group(slide)\n",
        "  \n",
        "df['group'] = df['slide'].map(group_map)"
      ],
      "metadata": {
        "id": "sP_7O27MrVsv"
      },
      "execution_count": null,
      "outputs": []
    },
    {
      "cell_type": "code",
      "source": [
        "# df.to_csv('/content/drive/MyDrive/BIOINF_590/Data/PredictedPatchExpression/slide_patch_expression_table.csv', index=False)"
      ],
      "metadata": {
        "id": "gS308_ufrXmc"
      },
      "execution_count": null,
      "outputs": []
    },
    {
      "cell_type": "code",
      "execution_count": null,
      "metadata": {
        "id": "fZlQUocYk5zf"
      },
      "outputs": [],
      "source": [
        "import seaborn as sns"
      ]
    },
    {
      "cell_type": "code",
      "source": [
        "sns.histplot(data=df, x='RTKN', hue='group')"
      ],
      "metadata": {
        "colab": {
          "base_uri": "https://localhost:8080/",
          "height": 296
        },
        "id": "w-yNqn1VrwYN",
        "outputId": "40d318d2-fcf2-44dc-9d7a-ddae3bcbb56e"
      },
      "execution_count": null,
      "outputs": [
        {
          "output_type": "execute_result",
          "data": {
            "text/plain": [
              "<matplotlib.axes._subplots.AxesSubplot at 0x7fb14b4606d0>"
            ]
          },
          "metadata": {},
          "execution_count": 43
        },
        {
          "output_type": "display_data",
          "data": {
            "text/plain": [
              "<Figure size 432x288 with 1 Axes>"
            ],
            "image/png": "[encoded data removed]"
          },
          "metadata": {
            "needs_background": "light"
          }
        }
      ]
    },
    {
      "cell_type": "code",
      "execution_count": null,
      "metadata": {
        "colab": {
          "base_uri": "https://localhost:8080/"
        },
        "id": "izc0ul_ok8ZZ",
        "outputId": "69ff0f73-af75-401b-c721-3e5f1d910efc"
      },
      "outputs": [
        {
          "output_type": "stream",
          "name": "stderr",
          "text": [
            "<ipython-input-47-47592b675002>:59: MatplotlibDeprecationWarning: \n",
            "The DivergingNorm class was deprecated in Matplotlib 3.2 and will be removed two minor releases later. Use TwoSlopeNorm instead.\n",
            "  norm = matplotlib.colors.DivergingNorm(vcenter=-0.12685, vmin=minima, vmax=maxima)\n"
          ]
        }
      ],
      "source": [
        "protein = 'RTKN'\n",
        "cmapper = make_cmapper(df, protein)\n",
        "for slide in df['slide'].unique():\n",
        "  group = get_group(slide)\n",
        "  orig_height = get_original_height(slide, group)\n",
        "  make_heat_map(slide, df, orig_height, group, protein, cmapper, show=False, save=True)"
      ]
    }
  ],
  "metadata": {
    "colab": {
      "provenance": [],
      "include_colab_link": true
    },
    "gpuClass": "standard",
    "kernelspec": {
      "display_name": "Python 3",
      "name": "python3"
    },
    "language_info": {
      "name": "python"
    }
  },
  "nbformat": 4,
  "nbformat_minor": 0
}